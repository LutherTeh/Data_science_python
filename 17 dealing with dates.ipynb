{
 "cells": [
  {
   "cell_type": "markdown",
   "metadata": {},
   "source": [
    "# Python for Data Analysis Part 17: Dealing With Dates"
   ]
  },
  {
   "cell_type": "markdown",
   "metadata": {},
   "source": [
    "In the last two lessons we learned a variety of methods to text character and numeric data, but many data sets also contain dates that don't fit nicely into either category. Common date formats contain numbers and sometimes text as well to specify months and days. Getting dates into a friendly format and extracting features of dates like month and year into new variables can be useful preprocessing steps."
   ]
  },
  {
   "cell_type": "markdown",
   "metadata": {},
   "source": [
    "For this lesson I've created some dummy date data in a few different formats. To read the data, copy the table of dates below and then use pd.read_clipboard() with the tab character as the separator and the index column set to 0:"
   ]
  },
  {
   "cell_type": "code",
   "execution_count": 68,
   "metadata": {
    "collapsed": true
   },
   "outputs": [],
   "source": [
    "import numpy as np\n",
    "import pandas as pd"
   ]
  },
  {
   "cell_type": "code",
   "execution_count": 75,
   "metadata": {
    "collapsed": false
   },
   "outputs": [],
   "source": [
    "dates = pd.read_clipboard(sep=\"\\t\",         # Read data from clipboard\n",
    "                          index_col=0)"
   ]
  },
  {
   "cell_type": "code",
   "execution_count": 70,
   "metadata": {
    "collapsed": false,
    "scrolled": true
   },
   "outputs": [
    {
     "data": {
      "text/html": [
       "<div>\n",
       "<table border=\"1\" class=\"dataframe\">\n",
       "  <thead>\n",
       "    <tr style=\"text-align: right;\">\n",
       "      <th></th>\n",
       "      <th>month_day_year</th>\n",
       "      <th>day_month_year</th>\n",
       "      <th>date_time</th>\n",
       "      <th>year_month_day</th>\n",
       "    </tr>\n",
       "  </thead>\n",
       "  <tbody>\n",
       "    <tr>\n",
       "      <th>1</th>\n",
       "      <td>4/22/1996</td>\n",
       "      <td>22-Apr-96</td>\n",
       "      <td>Tue Aug 11 09:50:35 1996</td>\n",
       "      <td>2007-06-22</td>\n",
       "    </tr>\n",
       "    <tr>\n",
       "      <th>2</th>\n",
       "      <td>4/23/1996</td>\n",
       "      <td>23-Apr-96</td>\n",
       "      <td>Tue May 12 19:50:35 2016</td>\n",
       "      <td>2017-01-09</td>\n",
       "    </tr>\n",
       "    <tr>\n",
       "      <th>3</th>\n",
       "      <td>5/14/1996</td>\n",
       "      <td>14-May-96</td>\n",
       "      <td>Mon Oct 14 09:50:35 2017</td>\n",
       "      <td>1998-04-12</td>\n",
       "    </tr>\n",
       "    <tr>\n",
       "      <th>4</th>\n",
       "      <td>5/15/1996</td>\n",
       "      <td>15-May-96</td>\n",
       "      <td>Tue Jan 11 09:50:35 2018</td>\n",
       "      <td>2027-07-22</td>\n",
       "    </tr>\n",
       "    <tr>\n",
       "      <th>5</th>\n",
       "      <td>5/16/2001</td>\n",
       "      <td>16-May-01</td>\n",
       "      <td>Fri Mar 11 07:30:36 2019</td>\n",
       "      <td>1945-11-15</td>\n",
       "    </tr>\n",
       "    <tr>\n",
       "      <th>6</th>\n",
       "      <td>5/17/2002</td>\n",
       "      <td>17-May-02</td>\n",
       "      <td>Tue Aug 11 09:50:35 2020</td>\n",
       "      <td>1942-06-22</td>\n",
       "    </tr>\n",
       "    <tr>\n",
       "      <th>7</th>\n",
       "      <td>5/18/2003</td>\n",
       "      <td>18-May-03</td>\n",
       "      <td>Wed Dec 21 09:50:35 2021</td>\n",
       "      <td>1887-06-13</td>\n",
       "    </tr>\n",
       "    <tr>\n",
       "      <th>8</th>\n",
       "      <td>5/19/2004</td>\n",
       "      <td>19-May-04</td>\n",
       "      <td>Tue Jan 11 09:50:35 2022</td>\n",
       "      <td>1912-01-25</td>\n",
       "    </tr>\n",
       "    <tr>\n",
       "      <th>9</th>\n",
       "      <td>5/20/2005</td>\n",
       "      <td>20-May-05</td>\n",
       "      <td>Sun Jul 10 19:40:25 2023</td>\n",
       "      <td>2007-06-22</td>\n",
       "    </tr>\n",
       "  </tbody>\n",
       "</table>\n",
       "</div>"
      ],
      "text/plain": [
       "  month_day_year day_month_year                 date_time year_month_day\n",
       "1      4/22/1996      22-Apr-96  Tue Aug 11 09:50:35 1996     2007-06-22\n",
       "2      4/23/1996      23-Apr-96  Tue May 12 19:50:35 2016     2017-01-09\n",
       "3      5/14/1996      14-May-96  Mon Oct 14 09:50:35 2017     1998-04-12\n",
       "4      5/15/1996      15-May-96  Tue Jan 11 09:50:35 2018     2027-07-22\n",
       "5      5/16/2001      16-May-01  Fri Mar 11 07:30:36 2019     1945-11-15\n",
       "6      5/17/2002      17-May-02  Tue Aug 11 09:50:35 2020     1942-06-22\n",
       "7      5/18/2003      18-May-03  Wed Dec 21 09:50:35 2021     1887-06-13\n",
       "8      5/19/2004      19-May-04  Tue Jan 11 09:50:35 2022     1912-01-25\n",
       "9      5/20/2005      20-May-05  Sun Jul 10 19:40:25 2023     2007-06-22"
      ]
     },
     "execution_count": 70,
     "metadata": {},
     "output_type": "execute_result"
    }
   ],
   "source": [
    "dates # Check the dates"
   ]
  },
  {
   "cell_type": "markdown",
   "metadata": {},
   "source": [
    "When you load data with Pandas, dates are typically loaded as strings by default. Let's check the type of data in each column:"
   ]
  },
  {
   "cell_type": "code",
   "execution_count": 76,
   "metadata": {
    "collapsed": false
   },
   "outputs": [
    {
     "name": "stdout",
     "output_type": "stream",
     "text": [
      "<class 'str'>\n",
      "<class 'str'>\n",
      "<class 'str'>\n",
      "<class 'str'>\n"
     ]
    }
   ],
   "source": [
    "for col in dates:\n",
    "    print (type(dates[col][1]))"
   ]
  },
  {
   "cell_type": "markdown",
   "metadata": {},
   "source": [
    "The output confirms that all the date data is currently in string form. To work with dates, we need to convert them from strings into a data format built for processing dates. The pandas library comes with a Timestamp data object for storing and working with dates. You can instuct pandas to automatically convert a date column in your data into Timestamps when you read your data by adding the \"parse_dates\" argument to the data reading function with a list of column indicies indicated the columns you wish to convert to Timestamps. Let's re-read the data with parse_dates turned on for each column:"
   ]
  },
  {
   "cell_type": "code",
   "execution_count": 85,
   "metadata": {
    "collapsed": false
   },
   "outputs": [],
   "source": [
    "dates = pd.read_clipboard(sep=\"\\t\", \n",
    "                          index_col=0,\n",
    "                          parse_dates=[0,1,2,3]) # Convert cols to Timestamp"
   ]
  },
  {
   "cell_type": "markdown",
   "metadata": {},
   "source": [
    "Now let's check the data types again:"
   ]
  },
  {
   "cell_type": "code",
   "execution_count": 86,
   "metadata": {
    "collapsed": false
   },
   "outputs": [
    {
     "name": "stdout",
     "output_type": "stream",
     "text": [
      "<class 'pandas.tslib.Timestamp'>\n",
      "<class 'pandas.tslib.Timestamp'>\n",
      "<class 'pandas.tslib.Timestamp'>\n",
      "<class 'str'>\n"
     ]
    }
   ],
   "source": [
    "for col in dates:\n",
    "    print (type(dates[col][1]))"
   ]
  },
  {
   "cell_type": "markdown",
   "metadata": {},
   "source": [
    "The output shows that 3 out of 4 of the date columns were successfully parsed and translated into Timestamps. The default date parser works on many common date formats, but dates can come in a lot different forms. If a date column is not converted to Timestamp by the default date parser, you can attempt to convert the column to Timestamp using the function pd.to_datetime(). Let's use it to convert column 3:"
   ]
  },
  {
   "cell_type": "code",
   "execution_count": 88,
   "metadata": {
    "collapsed": false
   },
   "outputs": [],
   "source": [
    "dates[\"year_month_day\"] = pd.to_datetime(dates[\"year_month_day\"] )"
   ]
  },
  {
   "cell_type": "code",
   "execution_count": 140,
   "metadata": {
    "collapsed": false
   },
   "outputs": [
    {
     "name": "stdout",
     "output_type": "stream",
     "text": [
      "<class 'pandas.tslib.Timestamp'>\n",
      "<class 'pandas.tslib.Timestamp'>\n",
      "<class 'pandas.tslib.Timestamp'>\n",
      "<class 'pandas.tslib.Timestamp'>\n"
     ]
    }
   ],
   "source": [
    "for col in dates:\n",
    "    print (type(dates[col][1]))"
   ]
  },
  {
   "cell_type": "markdown",
   "metadata": {},
   "source": [
    "If you have oddly formatted date time objects, you might have to specify the exact format to get it to convert correctly into a Timestamp. For instance, consider a date format that gives date times of the form hour:minute:second year-day-month:"
   ]
  },
  {
   "cell_type": "code",
   "execution_count": 120,
   "metadata": {
    "collapsed": true
   },
   "outputs": [],
   "source": [
    "odd_date = \"12:30:15 2015-29-11\""
   ]
  },
  {
   "cell_type": "markdown",
   "metadata": {},
   "source": [
    "The default to_datetime parser will fail to convert this date because it expects dates in the form year-month-day. In cases like this, specify the date's format to convert it to Timestamp:"
   ]
  },
  {
   "cell_type": "code",
   "execution_count": 123,
   "metadata": {
    "collapsed": false
   },
   "outputs": [
    {
     "data": {
      "text/plain": [
       "Timestamp('2015-11-29 12:30:15')"
      ]
     },
     "execution_count": 123,
     "metadata": {},
     "output_type": "execute_result"
    }
   ],
   "source": [
    "pd.to_datetime(odd_date,\n",
    "               format= \"%H:%M:%S %Y-%d-%m\") "
   ]
  },
  {
   "cell_type": "markdown",
   "metadata": {},
   "source": [
    "As seen above, date formatting uses special formatting codes for each part of the date. For instance, %H represents hours and %Y represents the four digit year. View a list of formatting codes here."
   ]
  },
  {
   "cell_type": "markdown",
   "metadata": {},
   "source": [
    "Once you have your dates in the Timestamp format, you can extract a variety of properties like the year, month and day. Converting dates into several simpler features can make the data easier to analyze and use in predictive models. Access date properties from a Series of Timestamps with the syntax: Series.dt.property. To illustarte, let's extract some features from the first column of our date data and put them in a new DataFrame:"
   ]
  },
  {
   "cell_type": "code",
   "execution_count": 151,
   "metadata": {
    "collapsed": false
   },
   "outputs": [
    {
     "data": {
      "text/html": [
       "<div>\n",
       "<table border=\"1\" class=\"dataframe\">\n",
       "  <thead>\n",
       "    <tr style=\"text-align: right;\">\n",
       "      <th></th>\n",
       "      <th>day</th>\n",
       "      <th>dayofweek</th>\n",
       "      <th>dayofyear</th>\n",
       "      <th>hour</th>\n",
       "      <th>month</th>\n",
       "      <th>quarter</th>\n",
       "      <th>week</th>\n",
       "      <th>weekday</th>\n",
       "      <th>weekofyear</th>\n",
       "      <th>year</th>\n",
       "    </tr>\n",
       "  </thead>\n",
       "  <tbody>\n",
       "    <tr>\n",
       "      <th>1</th>\n",
       "      <td>22</td>\n",
       "      <td>0</td>\n",
       "      <td>113</td>\n",
       "      <td>0</td>\n",
       "      <td>4</td>\n",
       "      <td>2</td>\n",
       "      <td>17</td>\n",
       "      <td>0</td>\n",
       "      <td>17</td>\n",
       "      <td>1996</td>\n",
       "    </tr>\n",
       "    <tr>\n",
       "      <th>2</th>\n",
       "      <td>23</td>\n",
       "      <td>1</td>\n",
       "      <td>114</td>\n",
       "      <td>0</td>\n",
       "      <td>4</td>\n",
       "      <td>2</td>\n",
       "      <td>17</td>\n",
       "      <td>1</td>\n",
       "      <td>17</td>\n",
       "      <td>1996</td>\n",
       "    </tr>\n",
       "    <tr>\n",
       "      <th>3</th>\n",
       "      <td>14</td>\n",
       "      <td>1</td>\n",
       "      <td>135</td>\n",
       "      <td>0</td>\n",
       "      <td>5</td>\n",
       "      <td>2</td>\n",
       "      <td>20</td>\n",
       "      <td>1</td>\n",
       "      <td>20</td>\n",
       "      <td>1996</td>\n",
       "    </tr>\n",
       "    <tr>\n",
       "      <th>4</th>\n",
       "      <td>15</td>\n",
       "      <td>2</td>\n",
       "      <td>136</td>\n",
       "      <td>0</td>\n",
       "      <td>5</td>\n",
       "      <td>2</td>\n",
       "      <td>20</td>\n",
       "      <td>2</td>\n",
       "      <td>20</td>\n",
       "      <td>1996</td>\n",
       "    </tr>\n",
       "    <tr>\n",
       "      <th>5</th>\n",
       "      <td>16</td>\n",
       "      <td>2</td>\n",
       "      <td>136</td>\n",
       "      <td>0</td>\n",
       "      <td>5</td>\n",
       "      <td>2</td>\n",
       "      <td>20</td>\n",
       "      <td>2</td>\n",
       "      <td>20</td>\n",
       "      <td>2001</td>\n",
       "    </tr>\n",
       "    <tr>\n",
       "      <th>6</th>\n",
       "      <td>17</td>\n",
       "      <td>4</td>\n",
       "      <td>137</td>\n",
       "      <td>0</td>\n",
       "      <td>5</td>\n",
       "      <td>2</td>\n",
       "      <td>20</td>\n",
       "      <td>4</td>\n",
       "      <td>20</td>\n",
       "      <td>2002</td>\n",
       "    </tr>\n",
       "    <tr>\n",
       "      <th>7</th>\n",
       "      <td>18</td>\n",
       "      <td>6</td>\n",
       "      <td>138</td>\n",
       "      <td>0</td>\n",
       "      <td>5</td>\n",
       "      <td>2</td>\n",
       "      <td>20</td>\n",
       "      <td>6</td>\n",
       "      <td>20</td>\n",
       "      <td>2003</td>\n",
       "    </tr>\n",
       "    <tr>\n",
       "      <th>8</th>\n",
       "      <td>19</td>\n",
       "      <td>2</td>\n",
       "      <td>140</td>\n",
       "      <td>0</td>\n",
       "      <td>5</td>\n",
       "      <td>2</td>\n",
       "      <td>21</td>\n",
       "      <td>2</td>\n",
       "      <td>21</td>\n",
       "      <td>2004</td>\n",
       "    </tr>\n",
       "    <tr>\n",
       "      <th>9</th>\n",
       "      <td>20</td>\n",
       "      <td>4</td>\n",
       "      <td>140</td>\n",
       "      <td>0</td>\n",
       "      <td>5</td>\n",
       "      <td>2</td>\n",
       "      <td>20</td>\n",
       "      <td>4</td>\n",
       "      <td>20</td>\n",
       "      <td>2005</td>\n",
       "    </tr>\n",
       "  </tbody>\n",
       "</table>\n",
       "</div>"
      ],
      "text/plain": [
       "   day  dayofweek  dayofyear  hour  month  quarter  week  weekday  weekofyear  \\\n",
       "1   22          0        113     0      4        2    17        0          17   \n",
       "2   23          1        114     0      4        2    17        1          17   \n",
       "3   14          1        135     0      5        2    20        1          20   \n",
       "4   15          2        136     0      5        2    20        2          20   \n",
       "5   16          2        136     0      5        2    20        2          20   \n",
       "6   17          4        137     0      5        2    20        4          20   \n",
       "7   18          6        138     0      5        2    20        6          20   \n",
       "8   19          2        140     0      5        2    21        2          21   \n",
       "9   20          4        140     0      5        2    20        4          20   \n",
       "\n",
       "   year  \n",
       "1  1996  \n",
       "2  1996  \n",
       "3  1996  \n",
       "4  1996  \n",
       "5  2001  \n",
       "6  2002  \n",
       "7  2003  \n",
       "8  2004  \n",
       "9  2005  "
      ]
     },
     "execution_count": 151,
     "metadata": {},
     "output_type": "execute_result"
    }
   ],
   "source": [
    "column_1 = dates.ix[:,0]\n",
    "\n",
    "pd.DataFrame({\"year\": column_1.dt.year,\n",
    "              \"month\": column_1.dt.month,\n",
    "              \"day\": column_1.dt.day,\n",
    "              \"hour\": column_1.dt.hour,\n",
    "              \"dayofyear\": column_1.dt.dayofyear,\n",
    "              \"week\": column_1.dt.week,\n",
    "              \"weekofyear\": column_1.dt.weekofyear,\n",
    "              \"dayofweek\": column_1.dt.dayofweek,\n",
    "              \"weekday\": column_1.dt.weekday,\n",
    "              \"quarter\": column_1.dt.quarter,\n",
    "             })\n"
   ]
  },
  {
   "cell_type": "markdown",
   "metadata": {},
   "source": [
    "In addition to extracting date features, you can use th subtraction operator on Timestamp objects to determine the amount of time bewteen two different dates:"
   ]
  },
  {
   "cell_type": "code",
   "execution_count": 160,
   "metadata": {
    "collapsed": false
   },
   "outputs": [
    {
     "name": "stdout",
     "output_type": "stream",
     "text": [
      "1996-04-22 00:00:00\n",
      "1996-05-14 00:00:00\n",
      "22 days 00:00:00\n"
     ]
    }
   ],
   "source": [
    "print(dates.ix[1,0])\n",
    "print(dates.ix[3,0])\n",
    "print(dates.ix[3,0]-dates.ix[1,0])"
   ]
  },
  {
   "cell_type": "markdown",
   "metadata": {},
   "source": [
    "In addition the basics covered in this lesson, Pandas includes a vareity of more advanced date and time functionality, particularly for dealing time series data (data consisting of many periodic measurments over time.). Read more about date and time functionality here."
   ]
  },
  {
   "cell_type": "markdown",
   "metadata": {},
   "source": [
    "### Wrap Up"
   ]
  },
  {
   "cell_type": "markdown",
   "metadata": {},
   "source": [
    "Pandas makes it easy to convert date data into the Timestamp data format and extract basic date features like day of the year, month and day of week. Simple date features can be powerful predictors because data often exhibit cyclical patterns over different time scales.\n",
    "\n",
    "Cleaning and prepocessing numeric, character and date data is sometimes all you need to do before you start a project. In some cases, however, your data may be split across several tables such as different worksheets in an excel file or different tables in a database. In these cases, you might have combine two tables together before proceeding with your project. In the next lesson we'll explore how to merge and reshape data sets."
   ]
  },
  {
   "cell_type": "markdown",
   "metadata": {},
   "source": [
    "### Next Time: Python for Data Analysis Part 18: Merging and Reshaping Data"
   ]
  }
 ],
 "metadata": {
  "kernelspec": {
   "display_name": "Python 3",
   "language": "python",
   "name": "python3"
  },
  "language_info": {
   "codemirror_mode": {
    "name": "ipython",
    "version": 3
   },
   "file_extension": ".py",
   "mimetype": "text/x-python",
   "name": "python",
   "nbconvert_exporter": "python",
   "pygments_lexer": "ipython3",
   "version": "3.5.0"
  }
 },
 "nbformat": 4,
 "nbformat_minor": 0
}
