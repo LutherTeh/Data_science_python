{
 "cells": [
  {
   "cell_type": "markdown",
   "metadata": {},
   "source": [
    "# Python for Data Analysis Part 16: Preparing Numeric Data"
   ]
  },
  {
   "cell_type": "markdown",
   "metadata": {},
   "source": [
    "Numeric data tends to be better-behaved than text data. There's only so many symbols that appear in numbers and they have well-defined values. Despite its relative cleanliness, there are variety of preprocessing tasks you should consider before using numeric data. In this lesson we'll learn some common operations used to prepare numeric data for use in analysis and predictive models."
   ]
  },
  {
   "cell_type": "markdown",
   "metadata": {},
   "source": [
    "### Centering and Scaling"
   ]
  },
  {
   "cell_type": "markdown",
   "metadata": {},
   "source": [
    "Numeric variables are often on different scales and cover different ranges, so they can't be easily compared. What's more, variables with large values can dominate those with smaller values when using certain modeling techniques. Centering and scaling is a common preprocessing task that puts numeric variables on a common scale so no single variable will dominate the others.\n",
    "\n",
    "The simplest way to center data is to subtract the mean value from each data point. Subtracting the mean centers the data around zero and sets the new mean to zero. Let's try zero-centering the mtcars dataset that comes with the ggplot library:"
   ]
  },
  {
   "cell_type": "code",
   "execution_count": 1,
   "metadata": {
    "collapsed": true
   },
   "outputs": [],
   "source": [
    "%matplotlib inline  "
   ]
  },
  {
   "cell_type": "code",
   "execution_count": 2,
   "metadata": {
    "collapsed": true
   },
   "outputs": [],
   "source": [
    "import numpy as np\n",
    "import pandas as pd\n",
    "from ggplot import mtcars"
   ]
  },
  {
   "cell_type": "code",
   "execution_count": 3,
   "metadata": {
    "collapsed": false
   },
   "outputs": [
    {
     "name": "stdout",
     "output_type": "stream",
     "text": [
      "                name   mpg  cyl  disp   hp  drat     wt   qsec  vs  am  gear  \\\n",
      "0          Mazda RX4  21.0    6   160  110  3.90  2.620  16.46   0   1     4   \n",
      "1      Mazda RX4 Wag  21.0    6   160  110  3.90  2.875  17.02   0   1     4   \n",
      "2         Datsun 710  22.8    4   108   93  3.85  2.320  18.61   1   1     4   \n",
      "3     Hornet 4 Drive  21.4    6   258  110  3.08  3.215  19.44   1   0     3   \n",
      "4  Hornet Sportabout  18.7    8   360  175  3.15  3.440  17.02   0   0     3   \n",
      "\n",
      "   carb  \n",
      "0     4  \n",
      "1     4  \n",
      "2     1  \n",
      "3     1  \n",
      "4     2  \n"
     ]
    },
    {
     "data": {
      "text/plain": [
       "mpg      20.090625\n",
       "cyl       6.187500\n",
       "disp    230.721875\n",
       "hp      146.687500\n",
       "drat      3.596563\n",
       "wt        3.217250\n",
       "qsec     17.848750\n",
       "vs        0.437500\n",
       "am        0.406250\n",
       "gear      3.687500\n",
       "carb      2.812500\n",
       "dtype: float64"
      ]
     },
     "execution_count": 3,
     "metadata": {},
     "output_type": "execute_result"
    }
   ],
   "source": [
    "print (mtcars.head() )\n",
    "\n",
    "mtcars.index = mtcars.name       # Set row index to car name\n",
    "del mtcars[\"name\"]               # Drop car name column\n",
    "\n",
    "colmeans = mtcars.sum()/mtcars.shape[0]  # Get column means\n",
    "\n",
    "colmeans"
   ]
  },
  {
   "cell_type": "markdown",
   "metadata": {},
   "source": [
    "With the column means in hand, we just need to subtract the column means from each row in an element-wise fashion to zero center the data. Pandas performs math operatinos invovling DataFrames and columns on an element-wise row-by-row basis by default, so we can simply subtract our column means series from the data set to center it:"
   ]
  },
  {
   "cell_type": "code",
   "execution_count": 4,
   "metadata": {
    "collapsed": false
   },
   "outputs": [
    {
     "name": "stdout",
     "output_type": "stream",
     "text": [
      "                mpg        cyl          disp          hp          drat  \\\n",
      "count  3.200000e+01  32.000000  3.200000e+01   32.000000  3.200000e+01   \n",
      "mean   3.996803e-15   0.000000 -4.618528e-14    0.000000 -5.967449e-16   \n",
      "std    6.026948e+00   1.785922  1.239387e+02   68.562868  5.346787e-01   \n",
      "min   -9.690625e+00  -2.187500 -1.596219e+02  -94.687500 -8.365625e-01   \n",
      "25%   -4.665625e+00  -2.187500 -1.098969e+02  -50.187500 -5.165625e-01   \n",
      "50%   -8.906250e-01  -0.187500 -3.442188e+01  -23.687500  9.843750e-02   \n",
      "75%    2.709375e+00   1.812500  9.527812e+01   33.312500  3.234375e-01   \n",
      "max    1.380938e+01   1.812500  2.412781e+02  188.312500  1.333437e+00   \n",
      "\n",
      "                 wt          qsec         vs         am       gear     carb  \n",
      "count  3.200000e+01  3.200000e+01  32.000000  32.000000  32.000000  32.0000  \n",
      "mean   4.440892e-16 -2.609024e-15   0.000000   0.000000   0.000000   0.0000  \n",
      "std    9.784574e-01  1.786943e+00   0.504016   0.498991   0.737804   1.6152  \n",
      "min   -1.704250e+00 -3.348750e+00  -0.437500  -0.406250  -0.687500  -1.8125  \n",
      "25%   -6.360000e-01 -9.562500e-01  -0.437500  -0.406250  -0.687500  -0.8125  \n",
      "50%    1.077500e-01 -1.387500e-01  -0.437500  -0.406250   0.312500  -0.8125  \n",
      "75%    3.927500e-01  1.051250e+00   0.562500   0.593750   0.312500   1.1875  \n",
      "max    2.206750e+00  5.051250e+00   0.562500   0.593750   1.312500   5.1875  \n"
     ]
    }
   ],
   "source": [
    "centered = mtcars-colmeans\n",
    "\n",
    "print(centered.describe())"
   ]
  },
  {
   "cell_type": "markdown",
   "metadata": {},
   "source": [
    "With zero-centered data, negative values are below average and positive values are above average.\n",
    "\n",
    "Now that the data is centered, we'd like to put it all on a common scale. One way to put data on a common scale is to divide by the standard deviation. Standard deviation is a statistic that describes the spread of numeric data. The higher the standard deviation, the further the data points tend to be spread away from the mean value. You can get standard deviations with df.std():"
   ]
  },
  {
   "cell_type": "code",
   "execution_count": 5,
   "metadata": {
    "collapsed": false
   },
   "outputs": [
    {
     "name": "stdout",
     "output_type": "stream",
     "text": [
      "                mpg           cyl          disp            hp          drat  \\\n",
      "count  3.200000e+01  3.200000e+01  3.200000e+01  3.200000e+01  3.200000e+01   \n",
      "mean   6.661338e-16 -2.775558e-17 -3.330669e-16  2.775558e-17 -1.110223e-15   \n",
      "std    1.000000e+00  1.000000e+00  1.000000e+00  1.000000e+00  1.000000e+00   \n",
      "min   -1.607883e+00 -1.224858e+00 -1.287910e+00 -1.381032e+00 -1.564608e+00   \n",
      "25%   -7.741273e-01 -1.224858e+00 -8.867035e-01 -7.319924e-01 -9.661175e-01   \n",
      "50%   -1.477738e-01 -1.049878e-01 -2.777331e-01 -3.454858e-01  1.841059e-01   \n",
      "75%    4.495434e-01  1.014882e+00  7.687521e-01  4.858679e-01  6.049193e-01   \n",
      "max    2.291272e+00  1.014882e+00  1.946754e+00  2.746567e+00  2.493904e+00   \n",
      "\n",
      "                 wt          qsec         vs            am          gear  \\\n",
      "count  3.200000e+01  3.200000e+01  32.000000  3.200000e+01  3.200000e+01   \n",
      "mean   4.163336e-16 -1.443290e-15   0.000000  5.551115e-17 -2.775558e-17   \n",
      "std    1.000000e+00  1.000000e+00   1.000000  1.000000e+00  1.000000e+00   \n",
      "min   -1.741772e+00 -1.874010e+00  -0.868028 -8.141431e-01 -9.318192e-01   \n",
      "25%   -6.500027e-01 -5.351317e-01  -0.868028 -8.141431e-01 -9.318192e-01   \n",
      "50%    1.101223e-01 -7.764656e-02  -0.868028 -8.141431e-01  4.235542e-01   \n",
      "75%    4.013971e-01  5.882951e-01   1.116036  1.189901e+00  4.235542e-01   \n",
      "max    2.255336e+00  2.826755e+00   1.116036  1.189901e+00  1.778928e+00   \n",
      "\n",
      "               carb  \n",
      "count  3.200000e+01  \n",
      "mean   2.775558e-17  \n",
      "std    1.000000e+00  \n",
      "min   -1.122152e+00  \n",
      "25%   -5.030337e-01  \n",
      "50%   -5.030337e-01  \n",
      "75%    7.352031e-01  \n",
      "max    3.211677e+00  \n"
     ]
    }
   ],
   "source": [
    "column_deviations = mtcars.std(axis=0)   # Get column standard deviations\n",
    "\n",
    "centered_and_scaled = centered/column_deviations \n",
    "\n",
    "print(centered_and_scaled.describe())"
   ]
  },
  {
   "cell_type": "markdown",
   "metadata": {},
   "source": [
    "Notice that after dividing by the standard deviation, every variable now has a standard deviation of 1. At this point all the columns have roughly the same mean and scale of spread about the mean.\n",
    "\n",
    "Manually centering and scaling as we've done is a good exercise, but it is often possible to perform common data preprocessing automatically using functions built into Python libraries. The Python library scikit-learn, a popular package for predictive modeling and data analysis, has preprocessing tools including a scale() function for centering and scaling data:"
   ]
  },
  {
   "cell_type": "code",
   "execution_count": 6,
   "metadata": {
    "collapsed": false
   },
   "outputs": [
    {
     "name": "stderr",
     "output_type": "stream",
     "text": [
      "C:\\Anaconda3\\lib\\site-packages\\sklearn\\utils\\fixes.py:64: DeprecationWarning: inspect.getargspec() is deprecated, use inspect.signature() instead\n",
      "  if 'order' in inspect.getargspec(np.copy)[0]:\n"
     ]
    }
   ],
   "source": [
    "from sklearn import preprocessing"
   ]
  },
  {
   "cell_type": "code",
   "execution_count": 7,
   "metadata": {
    "collapsed": false
   },
   "outputs": [
    {
     "name": "stdout",
     "output_type": "stream",
     "text": [
      "                mpg           cyl          disp         hp          drat  \\\n",
      "count  3.200000e+01  3.200000e+01  3.200000e+01  32.000000  3.200000e+01   \n",
      "mean  -4.996004e-16  2.775558e-17  1.665335e-16   0.000000 -3.053113e-16   \n",
      "std    1.016001e+00  1.016001e+00  1.016001e+00   1.016001  1.016001e+00   \n",
      "min   -1.633610e+00 -1.244457e+00 -1.308518e+00  -1.403130 -1.589643e+00   \n",
      "25%   -7.865141e-01 -1.244457e+00 -9.008917e-01  -0.743705 -9.815764e-01   \n",
      "50%   -1.501383e-01 -1.066677e-01 -2.821771e-01  -0.351014  1.870518e-01   \n",
      "75%    4.567366e-01  1.031121e+00  7.810529e-01   0.493642  6.145986e-01   \n",
      "max    2.327934e+00  1.031121e+00  1.977904e+00   2.790515  2.533809e+00   \n",
      "\n",
      "                 wt          qsec         vs         am          gear  \\\n",
      "count  3.200000e+01  3.200000e+01  32.000000  32.000000  3.200000e+01   \n",
      "mean   5.551115e-17 -1.471046e-15   0.000000   0.000000 -2.775558e-17   \n",
      "std    1.016001e+00  1.016001e+00   1.016001   1.016001  1.016001e+00   \n",
      "min   -1.769642e+00 -1.903996e+00  -0.881917  -0.827170 -9.467293e-01   \n",
      "25%   -6.604034e-01 -5.436944e-01  -0.881917  -0.827170 -9.467293e-01   \n",
      "50%    1.118844e-01 -7.888899e-02  -0.881917  -0.827170  4.303315e-01   \n",
      "75%    4.078199e-01  5.977084e-01   1.133893   1.208941  4.303315e-01   \n",
      "max    2.291423e+00  2.871986e+00   1.133893   1.208941  1.807392e+00   \n",
      "\n",
      "               carb  \n",
      "count  3.200000e+01  \n",
      "mean  -2.775558e-17  \n",
      "std    1.016001e+00  \n",
      "min   -1.140108e+00  \n",
      "25%   -5.110827e-01  \n",
      "50%   -5.110827e-01  \n",
      "75%    7.469671e-01  \n",
      "max    3.263067e+00  \n"
     ]
    }
   ],
   "source": [
    "scaled_data = preprocessing.scale(mtcars)  # Scale the data*\n",
    " \n",
    "scaled_cars = pd.DataFrame(scaled_data,    # Remake the DataFrame\n",
    "                           index=mtcars.index,\n",
    "                           columns=mtcars.columns)\n",
    "\n",
    "print(scaled_cars.describe() )"
   ]
  },
  {
   "cell_type": "markdown",
   "metadata": {},
   "source": [
    "*Note: preprocessing.scale() returns ndarrays so we have to convert it back into a DataFrame. \n",
    "\n",
    "Notice that the values are almost the same as those we calculated manually but not exactly the same. These small differences are likely due to rounding and details of the scikit-learn implementation of centering and scaling."
   ]
  },
  {
   "cell_type": "markdown",
   "metadata": {},
   "source": [
    "### Dealing With Skewed Data"
   ]
  },
  {
   "cell_type": "markdown",
   "metadata": {},
   "source": [
    "The distribution of data--its overall shape and how it is spread out--can have a significant impact on analysis and modeling. Data that is roughly evenly spread around the mean value--known as normally distributed data--tends to be well-behaved. On the other hand, some data sets exhibit significant skewness or asymmetry. To illustrate, lets generate a few distributions"
   ]
  },
  {
   "cell_type": "code",
   "execution_count": 8,
   "metadata": {
    "collapsed": false
   },
   "outputs": [
    {
     "data": {
      "text/plain": [
       "array([[<matplotlib.axes._subplots.AxesSubplot object at 0x000000000B349EB8>]], dtype=object)"
      ]
     },
     "execution_count": 8,
     "metadata": {},
     "output_type": "execute_result"
    },
    {
     "data": {
      "image/png": "[encoded data removed]",
      "text/plain": [
       "<matplotlib.figure.Figure at 0xb349128>"
      ]
     },
     "metadata": {},
     "output_type": "display_data"
    }
   ],
   "source": [
    "normally_distributed = np.random.normal(size=10000)  # Generate normal data*\n",
    "\n",
    "normally_distributed = pd.DataFrame(normally_distributed) # Convert to DF\n",
    "\n",
    "normally_distributed.hist(figsize=(8,8),                  # Plot histogram\n",
    "                          bins=30)                               "
   ]
  },
  {
   "cell_type": "markdown",
   "metadata": {},
   "source": [
    "*Note: We will cover probability distributions and generating random data in a future lesson.\n",
    "\n",
    "Notice how the normally distributed data looks roughly symmetric with a bell-shaped curve. Now let's generate some skewed data:"
   ]
  },
  {
   "cell_type": "code",
   "execution_count": 9,
   "metadata": {
    "collapsed": false
   },
   "outputs": [
    {
     "data": {
      "text/plain": [
       "array([[<matplotlib.axes._subplots.AxesSubplot object at 0x000000000B3E5B70>]], dtype=object)"
      ]
     },
     "execution_count": 9,
     "metadata": {},
     "output_type": "execute_result"
    },
    {
     "data": {
      "image/png": "[encoded data removed]",
      "text/plain": [
       "<matplotlib.figure.Figure at 0xb44df98>"
      ]
     },
     "metadata": {},
     "output_type": "display_data"
    }
   ],
   "source": [
    "skewed = np.random.exponential(scale=2,      # Generate skewed data\n",
    "                               size= 10000)  \n",
    "\n",
    "skewed = pd.DataFrame(skewed)                # Convert to DF\n",
    "\n",
    "skewed.hist(figsize=(8,8),                   # Plot histogram\n",
    "            bins=50)                               "
   ]
  },
  {
   "cell_type": "markdown",
   "metadata": {},
   "source": [
    "Data with a long tail that goes off to the right is called positively skewed or right skewed. When you have a skewed distribution like the one above, the extreme values in the long tail can have a disproportionately large influence on whatever test you perform or models you build. Reducing skew may improve your results. Taking the square root of each data point or taking the natural logarithm of each data point are two simple transformations that can reduce skew. Lets see their effects on the skewed data:"
   ]
  },
  {
   "cell_type": "code",
   "execution_count": 10,
   "metadata": {
    "collapsed": false
   },
   "outputs": [
    {
     "data": {
      "text/plain": [
       "array([[<matplotlib.axes._subplots.AxesSubplot object at 0x000000000B7A5B38>]], dtype=object)"
      ]
     },
     "execution_count": 10,
     "metadata": {},
     "output_type": "execute_result"
    },
    {
     "data": {
      "image/png": "[encoded data removed]",
      "text/plain": [
       "<matplotlib.figure.Figure at 0xb4f45f8>"
      ]
     },
     "metadata": {},
     "output_type": "display_data"
    }
   ],
   "source": [
    "sqrt_transformed = skewed.apply(np.sqrt) # Get the square root of data points*\n",
    "\n",
    "sqrt_transformed.hist(figsize=(8,8),     # Plot histogram\n",
    "                 bins=50)                 "
   ]
  },
  {
   "cell_type": "markdown",
   "metadata": {},
   "source": [
    "*Note: The df.apply() function applies a given function to each row or column of the DataFrame. In this case we pass in np.sqrt to get the square root of each value. \n",
    "\n",
    "Now lets look at a log transformation:"
   ]
  },
  {
   "cell_type": "code",
   "execution_count": 11,
   "metadata": {
    "collapsed": false
   },
   "outputs": [
    {
     "data": {
      "text/plain": [
       "array([[<matplotlib.axes._subplots.AxesSubplot object at 0x000000000B8735F8>]], dtype=object)"
      ]
     },
     "execution_count": 11,
     "metadata": {},
     "output_type": "execute_result"
    },
    {
     "data": {
      "image/png": "[encoded data removed]",
      "text/plain": [
       "<matplotlib.figure.Figure at 0xb832cf8>"
      ]
     },
     "metadata": {},
     "output_type": "display_data"
    }
   ],
   "source": [
    "log_transformed = (skewed+1).apply(np.log)   # Get the log of the data\n",
    "\n",
    "log_transformed.hist(figsize=(8,8),          # Plot histogram\n",
    "                 bins=50)                 "
   ]
  },
  {
   "cell_type": "markdown",
   "metadata": {},
   "source": [
    "*Note: Adding 1 before taking the log ensures we don't end up with negative values. Also note that neither of these transformations work on data containing negative values. To make them work on data with negative values add a constant to each value that is large enough to make all the data greater than or equal to 1 (such as adding the absolute value of the smallest number +1)\n",
    "\n",
    "Both the sqrt() and log() transforms reduced the skew of the data. It's still not quite normally distributed, but the amount of extreme data in the tails has been reduced to the point where we might not be so worried about it having a large influence on our results."
   ]
  },
  {
   "cell_type": "markdown",
   "metadata": {},
   "source": [
    "### Highly Correlated Variables"
   ]
  },
  {
   "cell_type": "markdown",
   "metadata": {},
   "source": [
    "In predictive modeling, each variable you use to construct a model would ideally represent some unique feature of the data. In other words, you want each variable to tell you something different. In reality, variables often exhibit collinearity--a strong correlation or tendency to move together, typically due to some underlying similarity or common influencing factor. Variables with strong correlations can interfere with one another when performing modeling and muddy results.\n",
    "\n",
    "You can check the pairwise correlations between numeric variables using the df.corr() function:"
   ]
  },
  {
   "cell_type": "code",
   "execution_count": 12,
   "metadata": {
    "collapsed": false
   },
   "outputs": [
    {
     "data": {
      "text/html": [
       "<div>\n",
       "<table border=\"1\" class=\"dataframe\">\n",
       "  <thead>\n",
       "    <tr style=\"text-align: right;\">\n",
       "      <th></th>\n",
       "      <th>mpg</th>\n",
       "      <th>cyl</th>\n",
       "      <th>disp</th>\n",
       "      <th>hp</th>\n",
       "      <th>drat</th>\n",
       "      <th>wt</th>\n",
       "    </tr>\n",
       "  </thead>\n",
       "  <tbody>\n",
       "    <tr>\n",
       "      <th>mpg</th>\n",
       "      <td>1.000000</td>\n",
       "      <td>-0.852162</td>\n",
       "      <td>-0.847551</td>\n",
       "      <td>-0.776168</td>\n",
       "      <td>0.681172</td>\n",
       "      <td>-0.867659</td>\n",
       "    </tr>\n",
       "    <tr>\n",
       "      <th>cyl</th>\n",
       "      <td>-0.852162</td>\n",
       "      <td>1.000000</td>\n",
       "      <td>0.902033</td>\n",
       "      <td>0.832447</td>\n",
       "      <td>-0.699938</td>\n",
       "      <td>0.782496</td>\n",
       "    </tr>\n",
       "    <tr>\n",
       "      <th>disp</th>\n",
       "      <td>-0.847551</td>\n",
       "      <td>0.902033</td>\n",
       "      <td>1.000000</td>\n",
       "      <td>0.790949</td>\n",
       "      <td>-0.710214</td>\n",
       "      <td>0.887980</td>\n",
       "    </tr>\n",
       "    <tr>\n",
       "      <th>hp</th>\n",
       "      <td>-0.776168</td>\n",
       "      <td>0.832447</td>\n",
       "      <td>0.790949</td>\n",
       "      <td>1.000000</td>\n",
       "      <td>-0.448759</td>\n",
       "      <td>0.658748</td>\n",
       "    </tr>\n",
       "    <tr>\n",
       "      <th>drat</th>\n",
       "      <td>0.681172</td>\n",
       "      <td>-0.699938</td>\n",
       "      <td>-0.710214</td>\n",
       "      <td>-0.448759</td>\n",
       "      <td>1.000000</td>\n",
       "      <td>-0.712441</td>\n",
       "    </tr>\n",
       "    <tr>\n",
       "      <th>wt</th>\n",
       "      <td>-0.867659</td>\n",
       "      <td>0.782496</td>\n",
       "      <td>0.887980</td>\n",
       "      <td>0.658748</td>\n",
       "      <td>-0.712441</td>\n",
       "      <td>1.000000</td>\n",
       "    </tr>\n",
       "  </tbody>\n",
       "</table>\n",
       "</div>"
      ],
      "text/plain": [
       "           mpg       cyl      disp        hp      drat        wt\n",
       "mpg   1.000000 -0.852162 -0.847551 -0.776168  0.681172 -0.867659\n",
       "cyl  -0.852162  1.000000  0.902033  0.832447 -0.699938  0.782496\n",
       "disp -0.847551  0.902033  1.000000  0.790949 -0.710214  0.887980\n",
       "hp   -0.776168  0.832447  0.790949  1.000000 -0.448759  0.658748\n",
       "drat  0.681172 -0.699938 -0.710214 -0.448759  1.000000 -0.712441\n",
       "wt   -0.867659  0.782496  0.887980  0.658748 -0.712441  1.000000"
      ]
     },
     "execution_count": 12,
     "metadata": {},
     "output_type": "execute_result"
    }
   ],
   "source": [
    "mtcars.ix[:,0:6].corr()   # Check the pairwise correlations of 6 variables"
   ]
  },
  {
   "cell_type": "markdown",
   "metadata": {},
   "source": [
    "A positive correlation implies that when one variable goes up the other tends to go up as well. Negative correlations indicate an inverse relationship: when one variable goes up the other tends to go down. A correlation near zero indicates low correlation while a correlation near -1 or 1 indicates a large negative or positive correlation.\n",
    "\n",
    "Inspecting the data table, we see that the number of cylinders a car has (cyl) and its weight (wt) have fairly strong negative correlations to gas mileage (mpg.). This indicates that heavier cars and cars with more cylinders tend to get lower gas mileage.\n",
    "\n",
    "A scatter plot matrix can be a helpful visual aide for inspecting colinearity. We can create one with the pandas scatter_matrix() function located in the tools.plotting pandas folder:"
   ]
  },
  {
   "cell_type": "code",
   "execution_count": 13,
   "metadata": {
    "collapsed": false
   },
   "outputs": [],
   "source": [
    "from pandas.tools.plotting import scatter_matrix"
   ]
  },
  {
   "cell_type": "code",
   "execution_count": 14,
   "metadata": {
    "collapsed": false
   },
   "outputs": [
    {
     "data": {
      "text/plain": [
       "array([[<matplotlib.axes._subplots.AxesSubplot object at 0x000000000B9AF828>,\n",
       "        <matplotlib.axes._subplots.AxesSubplot object at 0x000000000BA68CF8>,\n",
       "        <matplotlib.axes._subplots.AxesSubplot object at 0x000000000BAB60F0>,\n",
       "        <matplotlib.axes._subplots.AxesSubplot object at 0x000000000BAECB00>,\n",
       "        <matplotlib.axes._subplots.AxesSubplot object at 0x000000000BB32DD8>,\n",
       "        <matplotlib.axes._subplots.AxesSubplot object at 0x000000000BB70908>],\n",
       "       [<matplotlib.axes._subplots.AxesSubplot object at 0x000000000BC0B8D0>,\n",
       "        <matplotlib.axes._subplots.AxesSubplot object at 0x000000000BC19320>,\n",
       "        <matplotlib.axes._subplots.AxesSubplot object at 0x000000000BC990F0>,\n",
       "        <matplotlib.axes._subplots.AxesSubplot object at 0x000000000BCE24A8>,\n",
       "        <matplotlib.axes._subplots.AxesSubplot object at 0x000000000BD1D6A0>,\n",
       "        <matplotlib.axes._subplots.AxesSubplot object at 0x000000000BD67860>],\n",
       "       [<matplotlib.axes._subplots.AxesSubplot object at 0x000000000BDA2588>,\n",
       "        <matplotlib.axes._subplots.AxesSubplot object at 0x000000000BDEEC88>,\n",
       "        <matplotlib.axes._subplots.AxesSubplot object at 0x000000000BDB9B00>,\n",
       "        <matplotlib.axes._subplots.AxesSubplot object at 0x000000000BE73B70>,\n",
       "        <matplotlib.axes._subplots.AxesSubplot object at 0x000000000BEBCC18>,\n",
       "        <matplotlib.axes._subplots.AxesSubplot object at 0x000000000BEF93C8>],\n",
       "       [<matplotlib.axes._subplots.AxesSubplot object at 0x000000000BF41470>,\n",
       "        <matplotlib.axes._subplots.AxesSubplot object at 0x000000000BF83128>,\n",
       "        <matplotlib.axes._subplots.AxesSubplot object at 0x000000000BFCA898>,\n",
       "        <matplotlib.axes._subplots.AxesSubplot object at 0x000000000C000E48>,\n",
       "        <matplotlib.axes._subplots.AxesSubplot object at 0x000000000C055160>,\n",
       "        <matplotlib.axes._subplots.AxesSubplot object at 0x000000000C0A1128>],\n",
       "       [<matplotlib.axes._subplots.AxesSubplot object at 0x000000000C0DE748>,\n",
       "        <matplotlib.axes._subplots.AxesSubplot object at 0x000000000C126FD0>,\n",
       "        <matplotlib.axes._subplots.AxesSubplot object at 0x000000000C1628D0>,\n",
       "        <matplotlib.axes._subplots.AxesSubplot object at 0x000000000C1ABA90>,\n",
       "        <matplotlib.axes._subplots.AxesSubplot object at 0x000000000C1ED630>,\n",
       "        <matplotlib.axes._subplots.AxesSubplot object at 0x000000000C234E80>],\n",
       "       [<matplotlib.axes._subplots.AxesSubplot object at 0x000000000C284198>,\n",
       "        <matplotlib.axes._subplots.AxesSubplot object at 0x000000000C2BE908>,\n",
       "        <matplotlib.axes._subplots.AxesSubplot object at 0x000000000C3089B0>,\n",
       "        <matplotlib.axes._subplots.AxesSubplot object at 0x000000000C3486A0>,\n",
       "        <matplotlib.axes._subplots.AxesSubplot object at 0x000000000C397128>,\n",
       "        <matplotlib.axes._subplots.AxesSubplot object at 0x000000000C3CD860>]], dtype=object)"
      ]
     },
     "execution_count": 14,
     "metadata": {},
     "output_type": "execute_result"
    },
    {
     "name": "stderr",
     "output_type": "stream",
     "text": [
      "C:\\Anaconda3\\lib\\site-packages\\matplotlib\\collections.py:590: FutureWarning: elementwise comparison failed; returning scalar instead, but in the future will perform elementwise comparison\n",
      "  if self._edgecolors == str('face'):\n"
     ]
    },
    {
     "data": {
      "image/png": "[encoded data removed]",
      "text/plain": [
       "<matplotlib.figure.Figure at 0xba46208>"
      ]
     },
     "metadata": {},
     "output_type": "display_data"
    }
   ],
   "source": [
    "scatter_matrix(mtcars.ix[:,0:6],   # Make a scatter matrix of 6 columns\n",
    "               figsize=(10, 10),   # Set plot size\n",
    "               diagonal='kde')     # Show distribution estimates on diagonal"
   ]
  },
  {
   "cell_type": "markdown",
   "metadata": {},
   "source": [
    "A scatter plot matrix creates pairwise scatter plots that let you visually inspect the relationships between pairs of variables. It can also help identify oddities in the data, such as variables like cyl that only take on values in a small discrete set.\n",
    "\n",
    "If you find highly correlated variables, there are a few things you can do including:\n",
    "\n",
    "1. Leave them be\n",
    "2. Remove one or more variables\n",
    "3. Combine them in some way\n",
    "\n",
    "Reducing the number of variables under consideration, either by removing some or by combining them some way is known as \"dimensionality reduction.\" How you choose to handle correlated variables is ultimately a subjective decision that should be informed by your goal."
   ]
  },
  {
   "cell_type": "markdown",
   "metadata": {},
   "source": [
    "### Imputing Missing Data"
   ]
  },
  {
   "cell_type": "markdown",
   "metadata": {},
   "source": [
    "In the lesson on initial data exploration, we explored Titanic survivor data and found that several passengers had missing listed for age. Missing values in numeric data are troublesome because you can't simply treat them as a category: you have to either remove them or fill them in.\n",
    "\n",
    "Imputation describes filling in missing data with estimates based on the rest of the data set. When working with the titanic data set, we set all the missing Age values to the median age for the data set. Other simple imutation methods include setting missing values to the mean or most common value (mode.). The scikit-learn offers an Imupter tool that can automatically carry out these imputations for us. Let's start by loading the Imputer and introducing some missing values into the mpg data:"
   ]
  },
  {
   "cell_type": "code",
   "execution_count": 15,
   "metadata": {
    "collapsed": true
   },
   "outputs": [],
   "source": [
    "from sklearn.preprocessing import Imputer"
   ]
  },
  {
   "cell_type": "code",
   "execution_count": 16,
   "metadata": {
    "collapsed": false
   },
   "outputs": [
    {
     "data": {
      "text/plain": [
       "name\n",
       "Mazda RX4                21\n",
       "Mazda RX4 Wag            21\n",
       "Datsun 710             None\n",
       "Hornet 4 Drive         21.4\n",
       "Hornet Sportabout      18.7\n",
       "Valiant                18.1\n",
       "Duster 360             14.3\n",
       "Merc 240D              None\n",
       "Merc 230               None\n",
       "Merc 280               19.2\n",
       "Merc 280C              17.8\n",
       "Merc 450SE             16.4\n",
       "Merc 450SL             17.3\n",
       "Merc 450SLC            15.2\n",
       "Cadillac Fleetwood     10.4\n",
       "Lincoln Continental    10.4\n",
       "Chrysler Imperial      14.7\n",
       "Fiat 128               None\n",
       "Honda Civic            None\n",
       "Toyota Corolla         None\n",
       "Toyota Corona          21.5\n",
       "Dodge Challenger       15.5\n",
       "AMC Javelin            15.2\n",
       "Camaro Z28             13.3\n",
       "Pontiac Firebird       19.2\n",
       "Fiat X1-9              None\n",
       "Porsche 914-2          None\n",
       "Lotus Europa           None\n",
       "Ford Pantera L         15.8\n",
       "Ferrari Dino           19.7\n",
       "Maserati Bora            15\n",
       "Volvo 142E             21.4\n",
       "Name: mpg, dtype: object"
      ]
     },
     "execution_count": 16,
     "metadata": {},
     "output_type": "execute_result"
    }
   ],
   "source": [
    "# The following line sets a few mpg values to None\n",
    "mtcars[\"mpg\"] = np.where(mtcars[\"mpg\"]>22, None, mtcars[\"mpg\"])\n",
    "\n",
    "mtcars[\"mpg\"]        # Confirm that missing values were added"
   ]
  },
  {
   "cell_type": "markdown",
   "metadata": {},
   "source": [
    "Now let's use the Imputer fill in missing values based on the mean:"
   ]
  },
  {
   "cell_type": "code",
   "execution_count": 17,
   "metadata": {
    "collapsed": false
   },
   "outputs": [
    {
     "data": {
      "text/html": [
       "<div>\n",
       "<table border=\"1\" class=\"dataframe\">\n",
       "  <thead>\n",
       "    <tr style=\"text-align: right;\">\n",
       "      <th></th>\n",
       "      <th>mpg</th>\n",
       "      <th>cyl</th>\n",
       "      <th>disp</th>\n",
       "      <th>hp</th>\n",
       "      <th>drat</th>\n",
       "      <th>wt</th>\n",
       "      <th>qsec</th>\n",
       "      <th>vs</th>\n",
       "      <th>am</th>\n",
       "      <th>gear</th>\n",
       "      <th>carb</th>\n",
       "    </tr>\n",
       "    <tr>\n",
       "      <th>name</th>\n",
       "      <th></th>\n",
       "      <th></th>\n",
       "      <th></th>\n",
       "      <th></th>\n",
       "      <th></th>\n",
       "      <th></th>\n",
       "      <th></th>\n",
       "      <th></th>\n",
       "      <th></th>\n",
       "      <th></th>\n",
       "      <th></th>\n",
       "    </tr>\n",
       "  </thead>\n",
       "  <tbody>\n",
       "    <tr>\n",
       "      <th>Mazda RX4</th>\n",
       "      <td>21.000000</td>\n",
       "      <td>6</td>\n",
       "      <td>160.0</td>\n",
       "      <td>110</td>\n",
       "      <td>3.90</td>\n",
       "      <td>2.620</td>\n",
       "      <td>16.46</td>\n",
       "      <td>0</td>\n",
       "      <td>1</td>\n",
       "      <td>4</td>\n",
       "      <td>4</td>\n",
       "    </tr>\n",
       "    <tr>\n",
       "      <th>Mazda RX4 Wag</th>\n",
       "      <td>21.000000</td>\n",
       "      <td>6</td>\n",
       "      <td>160.0</td>\n",
       "      <td>110</td>\n",
       "      <td>3.90</td>\n",
       "      <td>2.875</td>\n",
       "      <td>17.02</td>\n",
       "      <td>0</td>\n",
       "      <td>1</td>\n",
       "      <td>4</td>\n",
       "      <td>4</td>\n",
       "    </tr>\n",
       "    <tr>\n",
       "      <th>Datsun 710</th>\n",
       "      <td>17.065217</td>\n",
       "      <td>4</td>\n",
       "      <td>108.0</td>\n",
       "      <td>93</td>\n",
       "      <td>3.85</td>\n",
       "      <td>2.320</td>\n",
       "      <td>18.61</td>\n",
       "      <td>1</td>\n",
       "      <td>1</td>\n",
       "      <td>4</td>\n",
       "      <td>1</td>\n",
       "    </tr>\n",
       "    <tr>\n",
       "      <th>Hornet 4 Drive</th>\n",
       "      <td>21.400000</td>\n",
       "      <td>6</td>\n",
       "      <td>258.0</td>\n",
       "      <td>110</td>\n",
       "      <td>3.08</td>\n",
       "      <td>3.215</td>\n",
       "      <td>19.44</td>\n",
       "      <td>1</td>\n",
       "      <td>0</td>\n",
       "      <td>3</td>\n",
       "      <td>1</td>\n",
       "    </tr>\n",
       "    <tr>\n",
       "      <th>Hornet Sportabout</th>\n",
       "      <td>18.700000</td>\n",
       "      <td>8</td>\n",
       "      <td>360.0</td>\n",
       "      <td>175</td>\n",
       "      <td>3.15</td>\n",
       "      <td>3.440</td>\n",
       "      <td>17.02</td>\n",
       "      <td>0</td>\n",
       "      <td>0</td>\n",
       "      <td>3</td>\n",
       "      <td>2</td>\n",
       "    </tr>\n",
       "    <tr>\n",
       "      <th>Valiant</th>\n",
       "      <td>18.100000</td>\n",
       "      <td>6</td>\n",
       "      <td>225.0</td>\n",
       "      <td>105</td>\n",
       "      <td>2.76</td>\n",
       "      <td>3.460</td>\n",
       "      <td>20.22</td>\n",
       "      <td>1</td>\n",
       "      <td>0</td>\n",
       "      <td>3</td>\n",
       "      <td>1</td>\n",
       "    </tr>\n",
       "    <tr>\n",
       "      <th>Duster 360</th>\n",
       "      <td>14.300000</td>\n",
       "      <td>8</td>\n",
       "      <td>360.0</td>\n",
       "      <td>245</td>\n",
       "      <td>3.21</td>\n",
       "      <td>3.570</td>\n",
       "      <td>15.84</td>\n",
       "      <td>0</td>\n",
       "      <td>0</td>\n",
       "      <td>3</td>\n",
       "      <td>4</td>\n",
       "    </tr>\n",
       "    <tr>\n",
       "      <th>Merc 240D</th>\n",
       "      <td>17.065217</td>\n",
       "      <td>4</td>\n",
       "      <td>146.7</td>\n",
       "      <td>62</td>\n",
       "      <td>3.69</td>\n",
       "      <td>3.190</td>\n",
       "      <td>20.00</td>\n",
       "      <td>1</td>\n",
       "      <td>0</td>\n",
       "      <td>4</td>\n",
       "      <td>2</td>\n",
       "    </tr>\n",
       "    <tr>\n",
       "      <th>Merc 230</th>\n",
       "      <td>17.065217</td>\n",
       "      <td>4</td>\n",
       "      <td>140.8</td>\n",
       "      <td>95</td>\n",
       "      <td>3.92</td>\n",
       "      <td>3.150</td>\n",
       "      <td>22.90</td>\n",
       "      <td>1</td>\n",
       "      <td>0</td>\n",
       "      <td>4</td>\n",
       "      <td>2</td>\n",
       "    </tr>\n",
       "    <tr>\n",
       "      <th>Merc 280</th>\n",
       "      <td>19.200000</td>\n",
       "      <td>6</td>\n",
       "      <td>167.6</td>\n",
       "      <td>123</td>\n",
       "      <td>3.92</td>\n",
       "      <td>3.440</td>\n",
       "      <td>18.30</td>\n",
       "      <td>1</td>\n",
       "      <td>0</td>\n",
       "      <td>4</td>\n",
       "      <td>4</td>\n",
       "    </tr>\n",
       "  </tbody>\n",
       "</table>\n",
       "</div>"
      ],
      "text/plain": [
       "                         mpg  cyl   disp   hp  drat     wt   qsec  vs  am  \\\n",
       "name                                                                        \n",
       "Mazda RX4          21.000000    6  160.0  110  3.90  2.620  16.46   0   1   \n",
       "Mazda RX4 Wag      21.000000    6  160.0  110  3.90  2.875  17.02   0   1   \n",
       "Datsun 710         17.065217    4  108.0   93  3.85  2.320  18.61   1   1   \n",
       "Hornet 4 Drive     21.400000    6  258.0  110  3.08  3.215  19.44   1   0   \n",
       "Hornet Sportabout  18.700000    8  360.0  175  3.15  3.440  17.02   0   0   \n",
       "Valiant            18.100000    6  225.0  105  2.76  3.460  20.22   1   0   \n",
       "Duster 360         14.300000    8  360.0  245  3.21  3.570  15.84   0   0   \n",
       "Merc 240D          17.065217    4  146.7   62  3.69  3.190  20.00   1   0   \n",
       "Merc 230           17.065217    4  140.8   95  3.92  3.150  22.90   1   0   \n",
       "Merc 280           19.200000    6  167.6  123  3.92  3.440  18.30   1   0   \n",
       "\n",
       "                   gear  carb  \n",
       "name                           \n",
       "Mazda RX4             4     4  \n",
       "Mazda RX4 Wag         4     4  \n",
       "Datsun 710            4     1  \n",
       "Hornet 4 Drive        3     1  \n",
       "Hornet Sportabout     3     2  \n",
       "Valiant               3     1  \n",
       "Duster 360            3     4  \n",
       "Merc 240D             4     2  \n",
       "Merc 230              4     2  \n",
       "Merc 280              4     4  "
      ]
     },
     "execution_count": 17,
     "metadata": {},
     "output_type": "execute_result"
    }
   ],
   "source": [
    "imp = Imputer(missing_values='NaN',  # Create imputation model\n",
    "              strategy='mean',       # Use mean imputation\n",
    "              axis=0)                # Impute by column\n",
    "\n",
    "imputed_cars = imp.fit_transform(mtcars)   # Use imputation model to get values\n",
    "\n",
    "imputed_cars = pd.DataFrame(imputed_cars,  # Remake DataFrame with new values\n",
    "                           index=mtcars.index,\n",
    "                           columns = mtcars.columns)\n",
    "\n",
    "imputed_cars.head(10)"
   ]
  },
  {
   "cell_type": "markdown",
   "metadata": {
    "collapsed": true
   },
   "source": [
    "Currently the Imputer only supports the \"mean\", \"median\" and \"most_frequent\" (mode) as strategies for imputation.\n",
    "\n",
    "Other imputatation methods include filling in values based on \"similar\" or \"neighboring\" records (K-nearest-neighbors imputation) and filling in values based on regression models. Using predictive models to fill in missing values adds an extra layer of complexity to an analysis and can significnatly increase processing time, although it may result in better predictive performance. We'll revisit predictive modeling in a future lesson."
   ]
  },
  {
   "cell_type": "markdown",
   "metadata": {},
   "source": [
    "### Wrap Up"
   ]
  },
  {
   "cell_type": "markdown",
   "metadata": {},
   "source": [
    "In the past two lessons we covered a variety of methods for preparing text data and numeric data. The majority of data you encounter will likely fall in one of these two categories, but there is one other type of data that appears with enough frequency that you will have to deal with it sooner or later: dates."
   ]
  },
  {
   "cell_type": "markdown",
   "metadata": {},
   "source": [
    "### Next Time: Python for Data Analysis Part 17: Dealing with Dates"
   ]
  }
 ],
 "metadata": {
  "kernelspec": {
   "display_name": "Python 3",
   "language": "python",
   "name": "python3"
  },
  "language_info": {
   "codemirror_mode": {
    "name": "ipython",
    "version": 3
   },
   "file_extension": ".py",
   "mimetype": "text/x-python",
   "name": "python",
   "nbconvert_exporter": "python",
   "pygments_lexer": "ipython3",
   "version": "3.5.0"
  }
 },
 "nbformat": 4,
 "nbformat_minor": 0
}
