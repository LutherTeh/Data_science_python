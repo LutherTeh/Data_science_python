{
 "cells": [
  {
   "cell_type": "markdown",
   "metadata": {},
   "source": [
    "# Python for Data Analysis Part 10: Reading and Writing Data"
   ]
  },
  {
   "cell_type": "markdown",
   "metadata": {},
   "source": [
    "Reading data into pandas DataFrames is the first step in conducting data analysis. The pandas package comes equipped with several data reading and writing functions, that let you read data directly from common file formats like comma separated values files (CSV) and Microsoft Excel files. This lesson will focus on reading and writing data from these common file formats, but Python has packages available to work with just about every data format you encounter."
   ]
  },
  {
   "cell_type": "markdown",
   "metadata": {},
   "source": [
    "### Python Working Directory and File Paths"
   ]
  },
  {
   "cell_type": "markdown",
   "metadata": {},
   "source": [
    "Before we can jump into reading and writing data, we need to learn a little bit about Python's working directory and file paths. When you launch Python, it starts in a default location in your computer's file system known as the working directory. You can check your current working directory by importing the os module and then using os.getcwd():"
   ]
  },
  {
   "cell_type": "code",
   "execution_count": 1,
   "metadata": {
    "collapsed": false
   },
   "outputs": [
    {
     "data": {
      "text/plain": [
       "'C:\\\\Users\\\\Greg'"
      ]
     },
     "execution_count": 1,
     "metadata": {},
     "output_type": "execute_result"
    }
   ],
   "source": [
    "import os          \n",
    "\n",
    "os.getcwd()"
   ]
  },
  {
   "cell_type": "markdown",
   "metadata": {},
   "source": [
    "The working directory acts as your starting point for accessing files on your computer from within Python. To load a data set from your hard drive, you either need to put the file in your working directory, change your working directory to the folder containing the data or supply the data file's file path to the data reading function.\n",
    "\n",
    "You can change your working directory by supplying a new file path in quotes to the os.chdir() function:"
   ]
  },
  {
   "cell_type": "code",
   "execution_count": 2,
   "metadata": {
    "collapsed": false
   },
   "outputs": [
    {
     "data": {
      "text/plain": [
       "'C:\\\\Users\\\\Greg\\\\Desktop\\\\intro_python10'"
      ]
     },
     "execution_count": 2,
     "metadata": {},
     "output_type": "execute_result"
    }
   ],
   "source": [
    "os.chdir('C:\\\\Users\\\\Greg\\\\Desktop\\\\intro_python10')\n",
    "        \n",
    "os.getcwd()                     # Check the working directory again"
   ]
  },
  {
   "cell_type": "markdown",
   "metadata": {},
   "source": [
    "You can list all of the objects in a directory by passing the file path to the os.listdir( ) function:"
   ]
  },
  {
   "cell_type": "code",
   "execution_count": 3,
   "metadata": {
    "collapsed": false
   },
   "outputs": [
    {
     "data": {
      "text/plain": [
       "['draft2015.csv', 'draft2015.tsv', 'draft2015.xlsx']"
      ]
     },
     "execution_count": 3,
     "metadata": {},
     "output_type": "execute_result"
    }
   ],
   "source": [
    "os.listdir('C:\\\\Users\\\\Greg\\\\Desktop\\\\intro_python10')"
   ]
  },
  {
   "cell_type": "markdown",
   "metadata": {},
   "source": [
    "Notice my intro_python10 folder has 3 files named \"draft2015\" in different file formats. Let's load them into DataFrames."
   ]
  },
  {
   "cell_type": "markdown",
   "metadata": {},
   "source": [
    "### Reading CSV and TSV Files"
   ]
  },
  {
   "cell_type": "markdown",
   "metadata": {},
   "source": [
    "Data is commonly stored in simple flat text files consisting of values delimited(separated) by a special character like a comman (CSV) or tab (TSV).\n",
    "\n",
    "You can read CSV files into a pandas DataFrame using the pandas function pd.read_csv():"
   ]
  },
  {
   "cell_type": "code",
   "execution_count": 4,
   "metadata": {
    "collapsed": false
   },
   "outputs": [
    {
     "data": {
      "text/html": [
       "<div style=\"max-height:1000px;max-width:1500px;overflow:auto;\">\n",
       "<table border=\"1\" class=\"dataframe\">\n",
       "  <thead>\n",
       "    <tr style=\"text-align: right;\">\n",
       "      <th></th>\n",
       "      <th>Player</th>\n",
       "      <th>Draft_Express</th>\n",
       "      <th>CBS</th>\n",
       "      <th>CBS_2</th>\n",
       "      <th>CBS_3</th>\n",
       "      <th>BleacherReport</th>\n",
       "      <th>SI</th>\n",
       "    </tr>\n",
       "  </thead>\n",
       "  <tbody>\n",
       "    <tr>\n",
       "      <th>0</th>\n",
       "      <td> Karl-Anthony Towns</td>\n",
       "      <td> 1</td>\n",
       "      <td> 1</td>\n",
       "      <td> 1</td>\n",
       "      <td> 1</td>\n",
       "      <td> 1</td>\n",
       "      <td> 1</td>\n",
       "    </tr>\n",
       "    <tr>\n",
       "      <th>1</th>\n",
       "      <td>      Jahlil Okafor</td>\n",
       "      <td> 2</td>\n",
       "      <td> 2</td>\n",
       "      <td> 2</td>\n",
       "      <td> 2</td>\n",
       "      <td> 2</td>\n",
       "      <td> 2</td>\n",
       "    </tr>\n",
       "    <tr>\n",
       "      <th>2</th>\n",
       "      <td>    Emmanuel Mudiay</td>\n",
       "      <td> 7</td>\n",
       "      <td> 6</td>\n",
       "      <td> 6</td>\n",
       "      <td> 6</td>\n",
       "      <td> 7</td>\n",
       "      <td> 6</td>\n",
       "    </tr>\n",
       "    <tr>\n",
       "      <th>3</th>\n",
       "      <td>   D'Angelo Russell</td>\n",
       "      <td> 3</td>\n",
       "      <td> 3</td>\n",
       "      <td> 4</td>\n",
       "      <td> 4</td>\n",
       "      <td> 3</td>\n",
       "      <td> 3</td>\n",
       "    </tr>\n",
       "    <tr>\n",
       "      <th>4</th>\n",
       "      <td> Kristaps Porzingis</td>\n",
       "      <td> 6</td>\n",
       "      <td> 5</td>\n",
       "      <td> 3</td>\n",
       "      <td> 3</td>\n",
       "      <td> 4</td>\n",
       "      <td> 4</td>\n",
       "    </tr>\n",
       "    <tr>\n",
       "      <th>5</th>\n",
       "      <td>      Mario Hezonja</td>\n",
       "      <td> 4</td>\n",
       "      <td> 7</td>\n",
       "      <td> 8</td>\n",
       "      <td> 7</td>\n",
       "      <td> 6</td>\n",
       "      <td> 7</td>\n",
       "    </tr>\n",
       "  </tbody>\n",
       "</table>\n",
       "<p>6 rows × 7 columns</p>\n",
       "</div>"
      ],
      "text/plain": [
       "               Player  Draft_Express  CBS  CBS_2  CBS_3  BleacherReport  SI\n",
       "0  Karl-Anthony Towns              1    1      1      1               1   1\n",
       "1       Jahlil Okafor              2    2      2      2               2   2\n",
       "2     Emmanuel Mudiay              7    6      6      6               7   6\n",
       "3    D'Angelo Russell              3    3      4      4               3   3\n",
       "4  Kristaps Porzingis              6    5      3      3               4   4\n",
       "5       Mario Hezonja              4    7      8      7               6   7\n",
       "\n",
       "[6 rows x 7 columns]"
      ]
     },
     "execution_count": 4,
     "metadata": {},
     "output_type": "execute_result"
    }
   ],
   "source": [
    "import pandas as pd\n",
    "\n",
    "draft1 = pd.read_csv('draft2015.csv')    # Supply the file path\n",
    "\n",
    "draft1.head(6)                           # Check the first 6 rows"
   ]
  },
  {
   "cell_type": "markdown",
   "metadata": {},
   "source": [
    "To load a TSV file, use pd.read_table():"
   ]
  },
  {
   "cell_type": "code",
   "execution_count": 5,
   "metadata": {
    "collapsed": false
   },
   "outputs": [
    {
     "data": {
      "text/html": [
       "<div style=\"max-height:1000px;max-width:1500px;overflow:auto;\">\n",
       "<table border=\"1\" class=\"dataframe\">\n",
       "  <thead>\n",
       "    <tr style=\"text-align: right;\">\n",
       "      <th></th>\n",
       "      <th>Player</th>\n",
       "      <th>Draft_Express</th>\n",
       "      <th>CBS</th>\n",
       "      <th>CBS_2</th>\n",
       "      <th>CBS_3</th>\n",
       "      <th>BleacherReport</th>\n",
       "      <th>SI</th>\n",
       "    </tr>\n",
       "  </thead>\n",
       "  <tbody>\n",
       "    <tr>\n",
       "      <th>0</th>\n",
       "      <td> Karl-Anthony Towns</td>\n",
       "      <td> 1</td>\n",
       "      <td> 1</td>\n",
       "      <td> 1</td>\n",
       "      <td> 1</td>\n",
       "      <td> 1</td>\n",
       "      <td> 1</td>\n",
       "    </tr>\n",
       "    <tr>\n",
       "      <th>1</th>\n",
       "      <td>      Jahlil Okafor</td>\n",
       "      <td> 2</td>\n",
       "      <td> 2</td>\n",
       "      <td> 2</td>\n",
       "      <td> 2</td>\n",
       "      <td> 2</td>\n",
       "      <td> 2</td>\n",
       "    </tr>\n",
       "    <tr>\n",
       "      <th>2</th>\n",
       "      <td>    Emmanuel Mudiay</td>\n",
       "      <td> 7</td>\n",
       "      <td> 6</td>\n",
       "      <td> 6</td>\n",
       "      <td> 6</td>\n",
       "      <td> 7</td>\n",
       "      <td> 6</td>\n",
       "    </tr>\n",
       "    <tr>\n",
       "      <th>3</th>\n",
       "      <td>   D'Angelo Russell</td>\n",
       "      <td> 3</td>\n",
       "      <td> 3</td>\n",
       "      <td> 4</td>\n",
       "      <td> 4</td>\n",
       "      <td> 3</td>\n",
       "      <td> 3</td>\n",
       "    </tr>\n",
       "    <tr>\n",
       "      <th>4</th>\n",
       "      <td> Kristaps Porzingis</td>\n",
       "      <td> 6</td>\n",
       "      <td> 5</td>\n",
       "      <td> 3</td>\n",
       "      <td> 3</td>\n",
       "      <td> 4</td>\n",
       "      <td> 4</td>\n",
       "    </tr>\n",
       "    <tr>\n",
       "      <th>5</th>\n",
       "      <td>      Mario Hezonja</td>\n",
       "      <td> 4</td>\n",
       "      <td> 7</td>\n",
       "      <td> 8</td>\n",
       "      <td> 7</td>\n",
       "      <td> 6</td>\n",
       "      <td> 7</td>\n",
       "    </tr>\n",
       "  </tbody>\n",
       "</table>\n",
       "<p>6 rows × 7 columns</p>\n",
       "</div>"
      ],
      "text/plain": [
       "               Player  Draft_Express  CBS  CBS_2  CBS_3  BleacherReport  SI\n",
       "0  Karl-Anthony Towns              1    1      1      1               1   1\n",
       "1       Jahlil Okafor              2    2      2      2               2   2\n",
       "2     Emmanuel Mudiay              7    6      6      6               7   6\n",
       "3    D'Angelo Russell              3    3      4      4               3   3\n",
       "4  Kristaps Porzingis              6    5      3      3               4   4\n",
       "5       Mario Hezonja              4    7      8      7               6   7\n",
       "\n",
       "[6 rows x 7 columns]"
      ]
     },
     "execution_count": 5,
     "metadata": {},
     "output_type": "execute_result"
    }
   ],
   "source": [
    "draft2 = pd.read_table('draft2015.tsv')  # Read a tsv into a DataFrame\n",
    "\n",
    "draft2.head(6)                           # Check the first 6 rows"
   ]
  },
  {
   "cell_type": "markdown",
   "metadata": {},
   "source": [
    "The read_table() function is a general file reading function that reads tsv files by default, but you can use to to read flat text files separated by any delimitng character by setting the \"sep\" argument to a different character. Read more about the options it offers here."
   ]
  },
  {
   "cell_type": "markdown",
   "metadata": {},
   "source": [
    "### Reading Excel Files"
   ]
  },
  {
   "cell_type": "markdown",
   "metadata": {},
   "source": [
    "Microsoft Excel is a ubiquitous enterprise spreadsheet program that stores data in its own format with the extension .xls or .xlsx. Although you can save Excel files as CSV from within Excel and then load it into Python with the functions we covered above, pandas is capable of loading data difrectly from Excel file formats.\n",
    "\n",
    "To load data from an Excel file you need the \"xlrd\" module. This module comes with the Python Anaconda distribution. If you don't have it installed, you can get it by opening a command console and running \"pip install xlrd\".\n",
    "\n",
    "Load data from an Excel file to a DataFrame with pd.read_excel(), supplying the file path and the name of the worksheet you want to load:"
   ]
  },
  {
   "cell_type": "code",
   "execution_count": 6,
   "metadata": {
    "collapsed": false
   },
   "outputs": [
    {
     "data": {
      "text/html": [
       "<div style=\"max-height:1000px;max-width:1500px;overflow:auto;\">\n",
       "<table border=\"1\" class=\"dataframe\">\n",
       "  <thead>\n",
       "    <tr style=\"text-align: right;\">\n",
       "      <th></th>\n",
       "      <th>Player</th>\n",
       "      <th>Draft_Express</th>\n",
       "      <th>CBS</th>\n",
       "      <th>CBS_2</th>\n",
       "      <th>CBS_3</th>\n",
       "      <th>BleacherReport</th>\n",
       "      <th>SI</th>\n",
       "    </tr>\n",
       "  </thead>\n",
       "  <tbody>\n",
       "    <tr>\n",
       "      <th>0</th>\n",
       "      <td> Karl-Anthony Towns</td>\n",
       "      <td> 1</td>\n",
       "      <td> 1</td>\n",
       "      <td> 1</td>\n",
       "      <td> 1</td>\n",
       "      <td> 1</td>\n",
       "      <td> 1</td>\n",
       "    </tr>\n",
       "    <tr>\n",
       "      <th>1</th>\n",
       "      <td>      Jahlil Okafor</td>\n",
       "      <td> 2</td>\n",
       "      <td> 2</td>\n",
       "      <td> 2</td>\n",
       "      <td> 2</td>\n",
       "      <td> 2</td>\n",
       "      <td> 2</td>\n",
       "    </tr>\n",
       "    <tr>\n",
       "      <th>2</th>\n",
       "      <td>    Emmanuel Mudiay</td>\n",
       "      <td> 7</td>\n",
       "      <td> 6</td>\n",
       "      <td> 6</td>\n",
       "      <td> 6</td>\n",
       "      <td> 7</td>\n",
       "      <td> 6</td>\n",
       "    </tr>\n",
       "    <tr>\n",
       "      <th>3</th>\n",
       "      <td>   D'Angelo Russell</td>\n",
       "      <td> 3</td>\n",
       "      <td> 3</td>\n",
       "      <td> 4</td>\n",
       "      <td> 4</td>\n",
       "      <td> 3</td>\n",
       "      <td> 3</td>\n",
       "    </tr>\n",
       "    <tr>\n",
       "      <th>4</th>\n",
       "      <td> Kristaps Porzingis</td>\n",
       "      <td> 6</td>\n",
       "      <td> 5</td>\n",
       "      <td> 3</td>\n",
       "      <td> 3</td>\n",
       "      <td> 4</td>\n",
       "      <td> 4</td>\n",
       "    </tr>\n",
       "    <tr>\n",
       "      <th>5</th>\n",
       "      <td>      Mario Hezonja</td>\n",
       "      <td> 4</td>\n",
       "      <td> 7</td>\n",
       "      <td> 8</td>\n",
       "      <td> 7</td>\n",
       "      <td> 6</td>\n",
       "      <td> 7</td>\n",
       "    </tr>\n",
       "  </tbody>\n",
       "</table>\n",
       "<p>6 rows × 7 columns</p>\n",
       "</div>"
      ],
      "text/plain": [
       "               Player  Draft_Express  CBS  CBS_2  CBS_3  BleacherReport  SI\n",
       "0  Karl-Anthony Towns              1    1      1      1               1   1\n",
       "1       Jahlil Okafor              2    2      2      2               2   2\n",
       "2     Emmanuel Mudiay              7    6      6      6               7   6\n",
       "3    D'Angelo Russell              3    3      4      4               3   3\n",
       "4  Kristaps Porzingis              6    5      3      3               4   4\n",
       "5       Mario Hezonja              4    7      8      7               6   7\n",
       "\n",
       "[6 rows x 7 columns]"
      ]
     },
     "execution_count": 6,
     "metadata": {},
     "output_type": "execute_result"
    }
   ],
   "source": [
    "draft3 = pd.read_excel('draft2015.xlsx',        # Path to Excel file\n",
    "                       sheetname = 'draft2015') # Name of sheet to read from\n",
    "\n",
    "draft3.head(6)                            # Check the first 6 rows"
   ]
  },
  {
   "cell_type": "markdown",
   "metadata": {
    "collapsed": true
   },
   "source": [
    "### Reading Web Data"
   ]
  },
  {
   "cell_type": "markdown",
   "metadata": {
    "collapsed": true
   },
   "source": [
    "The Internet gives you access to more data than you could ever hope to analyze. Data analysis often begins with getting data from the web and loading it into Python. Websites that offer data for download usually let you download data as CSV, TSV or excel files. Perhaps the easiest way load web data, is to simply download data to your hard drive and then use the functions we discussed earlier to load it into a DataFrame.\n",
    "\n",
    "Reading from the clipboard is another quick and dirty option for reading web data and other tabular data. To read data from the clipboard, highlight the data you want to copy and use the approprate copy function on your keyboard (typically control+C) as if you were going to copy and paste the data. Next, use the pd.read_clipboard() function with the appropriate separator to load the data into a pandas DataFrame:"
   ]
  },
  {
   "cell_type": "code",
   "execution_count": 7,
   "metadata": {
    "collapsed": false
   },
   "outputs": [
    {
     "data": {
      "text/html": [
       "<div style=\"max-height:1000px;max-width:1500px;overflow:auto;\">\n",
       "<table border=\"1\" class=\"dataframe\">\n",
       "  <thead>\n",
       "    <tr style=\"text-align: right;\">\n",
       "      <th></th>\n",
       "      <th>Rk</th>\n",
       "      <th>Player</th>\n",
       "      <th>Pos</th>\n",
       "      <th>Age</th>\n",
       "      <th>Tm</th>\n",
       "      <th>G</th>\n",
       "      <th>GS</th>\n",
       "      <th>MP</th>\n",
       "      <th>FG</th>\n",
       "      <th>FGA</th>\n",
       "    </tr>\n",
       "  </thead>\n",
       "  <tbody>\n",
       "    <tr>\n",
       "      <th>0</th>\n",
       "      <td> 1</td>\n",
       "      <td>    Quincy Acy</td>\n",
       "      <td> PF</td>\n",
       "      <td> 24</td>\n",
       "      <td> NYK</td>\n",
       "      <td> 68</td>\n",
       "      <td> 22</td>\n",
       "      <td> 1287</td>\n",
       "      <td> 152</td>\n",
       "      <td> 331</td>\n",
       "    </tr>\n",
       "    <tr>\n",
       "      <th>1</th>\n",
       "      <td> 2</td>\n",
       "      <td>  Jordan Adams</td>\n",
       "      <td> SG</td>\n",
       "      <td> 20</td>\n",
       "      <td> MEM</td>\n",
       "      <td> 30</td>\n",
       "      <td>  0</td>\n",
       "      <td>  248</td>\n",
       "      <td>  35</td>\n",
       "      <td>  86</td>\n",
       "    </tr>\n",
       "    <tr>\n",
       "      <th>2</th>\n",
       "      <td> 3</td>\n",
       "      <td>  Steven Adams</td>\n",
       "      <td>  C</td>\n",
       "      <td> 21</td>\n",
       "      <td> OKC</td>\n",
       "      <td> 70</td>\n",
       "      <td> 67</td>\n",
       "      <td> 1771</td>\n",
       "      <td> 217</td>\n",
       "      <td> 399</td>\n",
       "    </tr>\n",
       "    <tr>\n",
       "      <th>3</th>\n",
       "      <td> 4</td>\n",
       "      <td>   Jeff Adrien</td>\n",
       "      <td> PF</td>\n",
       "      <td> 28</td>\n",
       "      <td> MIN</td>\n",
       "      <td> 17</td>\n",
       "      <td>  0</td>\n",
       "      <td>  215</td>\n",
       "      <td>  19</td>\n",
       "      <td>  44</td>\n",
       "    </tr>\n",
       "    <tr>\n",
       "      <th>4</th>\n",
       "      <td> 5</td>\n",
       "      <td> Arron Afflalo</td>\n",
       "      <td> SG</td>\n",
       "      <td> 29</td>\n",
       "      <td> TOT</td>\n",
       "      <td> 78</td>\n",
       "      <td> 72</td>\n",
       "      <td> 2502</td>\n",
       "      <td> 375</td>\n",
       "      <td> 884</td>\n",
       "    </tr>\n",
       "  </tbody>\n",
       "</table>\n",
       "<p>5 rows × 10 columns</p>\n",
       "</div>"
      ],
      "text/plain": [
       "   Rk         Player Pos  Age   Tm   G  GS    MP   FG  FGA\n",
       "0   1     Quincy Acy  PF   24  NYK  68  22  1287  152  331\n",
       "1   2   Jordan Adams  SG   20  MEM  30   0   248   35   86\n",
       "2   3   Steven Adams   C   21  OKC  70  67  1771  217  399\n",
       "3   4    Jeff Adrien  PF   28  MIN  17   0   215   19   44\n",
       "4   5  Arron Afflalo  SG   29  TOT  78  72  2502  375  884\n",
       "\n",
       "[5 rows x 10 columns]"
      ]
     },
     "execution_count": 7,
     "metadata": {},
     "output_type": "execute_result"
    }
   ],
   "source": [
    "# Go to http://www.basketball-reference.com/leagues/NBA_2015_totals.html\n",
    "# click the CSV button and then copy some data to the clipboard\n",
    "\n",
    "BB_reference_data = pd.read_clipboard(sep=\",\")  # Read data from the clipboard\n",
    "\n",
    "BB_reference_data.ix[:, 0:10].head(5)   # Check 5 rows (10 columns only)"
   ]
  },
  {
   "cell_type": "markdown",
   "metadata": {},
   "source": [
    "Pandas also comes with a read_html() function to read data directly from web pages. To use read_html() you need the HTML5lib pacakge. Install it by opening a command console and running \"pip install HTLM5lib\" (without quotes.). Note that HTML can have all sorts of nested structures and formatting quirks, which makes parsing it to extract data troublesome. The read_html() function does its best to draw out tabular data in web pages, but the results arne't always perfect. Lets read html direclty from basetkball-reference.com to get the same data we loaded from the clipboard:"
   ]
  },
  {
   "cell_type": "code",
   "execution_count": 8,
   "metadata": {
    "collapsed": false
   },
   "outputs": [
    {
     "data": {
      "text/html": [
       "<div style=\"max-height:1000px;max-width:1500px;overflow:auto;\">\n",
       "<table border=\"1\" class=\"dataframe\">\n",
       "  <thead>\n",
       "    <tr style=\"text-align: right;\">\n",
       "      <th></th>\n",
       "      <th>Rk</th>\n",
       "      <th>Player</th>\n",
       "      <th>Pos</th>\n",
       "      <th>Age</th>\n",
       "      <th>Tm</th>\n",
       "      <th>G</th>\n",
       "      <th>GS</th>\n",
       "      <th>MP</th>\n",
       "      <th>FG</th>\n",
       "      <th>FGA</th>\n",
       "    </tr>\n",
       "  </thead>\n",
       "  <tbody>\n",
       "    <tr>\n",
       "      <th>0</th>\n",
       "      <td> 1</td>\n",
       "      <td>    Quincy Acy</td>\n",
       "      <td> PF</td>\n",
       "      <td> 24</td>\n",
       "      <td> NYK</td>\n",
       "      <td> 68</td>\n",
       "      <td> 22</td>\n",
       "      <td>       NaT</td>\n",
       "      <td> 152</td>\n",
       "      <td> 331</td>\n",
       "    </tr>\n",
       "    <tr>\n",
       "      <th>1</th>\n",
       "      <td> 2</td>\n",
       "      <td>  Jordan Adams</td>\n",
       "      <td> SG</td>\n",
       "      <td> 20</td>\n",
       "      <td> MEM</td>\n",
       "      <td> 30</td>\n",
       "      <td>  0</td>\n",
       "      <td>       NaT</td>\n",
       "      <td>  35</td>\n",
       "      <td>  86</td>\n",
       "    </tr>\n",
       "    <tr>\n",
       "      <th>2</th>\n",
       "      <td> 3</td>\n",
       "      <td>  Steven Adams</td>\n",
       "      <td>  C</td>\n",
       "      <td> 21</td>\n",
       "      <td> OKC</td>\n",
       "      <td> 70</td>\n",
       "      <td> 67</td>\n",
       "      <td>1771-01-01</td>\n",
       "      <td> 217</td>\n",
       "      <td> 399</td>\n",
       "    </tr>\n",
       "    <tr>\n",
       "      <th>3</th>\n",
       "      <td> 4</td>\n",
       "      <td>   Jeff Adrien</td>\n",
       "      <td> PF</td>\n",
       "      <td> 28</td>\n",
       "      <td> MIN</td>\n",
       "      <td> 17</td>\n",
       "      <td>  0</td>\n",
       "      <td>       NaT</td>\n",
       "      <td>  19</td>\n",
       "      <td>  44</td>\n",
       "    </tr>\n",
       "    <tr>\n",
       "      <th>4</th>\n",
       "      <td> 5</td>\n",
       "      <td> Arron Afflalo</td>\n",
       "      <td> SG</td>\n",
       "      <td> 29</td>\n",
       "      <td> TOT</td>\n",
       "      <td> 78</td>\n",
       "      <td> 72</td>\n",
       "      <td>       NaT</td>\n",
       "      <td> 375</td>\n",
       "      <td> 884</td>\n",
       "    </tr>\n",
       "  </tbody>\n",
       "</table>\n",
       "<p>5 rows × 10 columns</p>\n",
       "</div>"
      ],
      "text/plain": [
       "  Rk         Player Pos Age   Tm   G  GS         MP   FG  FGA\n",
       "0  1     Quincy Acy  PF  24  NYK  68  22        NaT  152  331\n",
       "1  2   Jordan Adams  SG  20  MEM  30   0        NaT   35   86\n",
       "2  3   Steven Adams   C  21  OKC  70  67 1771-01-01  217  399\n",
       "3  4    Jeff Adrien  PF  28  MIN  17   0        NaT   19   44\n",
       "4  5  Arron Afflalo  SG  29  TOT  78  72        NaT  375  884\n",
       "\n",
       "[5 rows x 10 columns]"
      ]
     },
     "execution_count": 8,
     "metadata": {},
     "output_type": "execute_result"
    }
   ],
   "source": [
    "url = \"http://www.basketball-reference.com/leagues/NBA_2015_totals.html\"\n",
    "\n",
    "BB_data = pd.read_html(url)         # Read data from the specified url\n",
    "\n",
    "BB_data[0].ix[:, 0:10].head(5)      # Check 5 rows (10 colums only)"
   ]
  },
  {
   "cell_type": "markdown",
   "metadata": {
    "collapsed": true
   },
   "source": [
    "*Note: read_html() returns a list of DataFrames, regardless of the number of tables on the web page you read from. In the code above, BB_data[0] gets the first DataFrame from the list and then .ix[:, 0:10].head(5) slices the first 10 columns and checks the head. \n",
    "\n",
    "Data comes in all sorts of formats other than the ones we've discussed here. The pandas library has several other data reading functions to work with data in other common formats, like json, SAS and stata files and SQL databases."
   ]
  },
  {
   "cell_type": "markdown",
   "metadata": {},
   "source": [
    "### Writing Data"
   ]
  },
  {
   "cell_type": "markdown",
   "metadata": {},
   "source": [
    "Each of the data reading functions in pandas has a corresponding writer function that lets you write data back to into the format it came from. Most of the time, however, you'll probably want to save your data in an easy-to-use fromat like CSV. Write a DataFrame to CSV in the working directory by passing the desired file name to the df.to_csv() function:"
   ]
  },
  {
   "cell_type": "code",
   "execution_count": 9,
   "metadata": {
    "collapsed": false
   },
   "outputs": [
    {
     "data": {
      "text/plain": [
       "['bb_data.csv', 'draft2015.csv', 'draft2015.tsv', 'draft2015.xlsx']"
      ]
     },
     "execution_count": 9,
     "metadata": {},
     "output_type": "execute_result"
    }
   ],
   "source": [
    "BB_reference_data.to_csv(\"bb_data.csv\") \n",
    "\n",
    "os.listdir('C:\\\\Users\\\\Greg\\\\Desktop\\\\intro_python10')"
   ]
  },
  {
   "cell_type": "markdown",
   "metadata": {},
   "source": [
    "Notice 'bb_data.csv' now exists in the folder."
   ]
  },
  {
   "cell_type": "markdown",
   "metadata": {},
   "source": [
    "### Wrap Up"
   ]
  },
  {
   "cell_type": "markdown",
   "metadata": {},
   "source": [
    "The pandas library makes it easy to read data into DataFrames and export it back into common data formats like CSV files. \n",
    "\n",
    "Now that we know how to load data into Python we're almost ready to start doing data analysis, but before we do, we need to learn some basic Python programming constructs."
   ]
  },
  {
   "cell_type": "markdown",
   "metadata": {},
   "source": [
    "### Next Time: Python for Data Analysis Part 11: Control Flow"
   ]
  }
 ],
 "metadata": {
  "kernelspec": {
   "display_name": "Python 3",
   "language": "python",
   "name": "python3"
  },
  "language_info": {
   "codemirror_mode": {
    "name": "ipython",
    "version": 3
   },
   "file_extension": ".py",
   "mimetype": "text/x-python",
   "name": "python",
   "nbconvert_exporter": "python",
   "pygments_lexer": "ipython3",
   "version": "3.4.0"
  }
 },
 "nbformat": 4,
 "nbformat_minor": 0
}
